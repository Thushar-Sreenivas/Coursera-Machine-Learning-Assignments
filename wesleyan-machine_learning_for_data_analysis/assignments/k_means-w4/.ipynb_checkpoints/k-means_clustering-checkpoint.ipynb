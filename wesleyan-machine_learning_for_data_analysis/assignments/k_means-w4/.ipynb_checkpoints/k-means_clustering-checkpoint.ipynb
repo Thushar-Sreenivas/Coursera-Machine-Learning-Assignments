{
 "cells": [
  {
   "cell_type": "markdown",
   "metadata": {},
   "source": [
    "# K-means clustering \n",
    "#### Objective\n",
    "Identify underlying subgroups of adolescents using K-means clustering analysis. \n",
    "\n",
    "#### Method\n",
    "The clustering was made by specifying 11 clustering variables from the tree_addhealth.csv dataset which might be correlated to school achievement. The data was preprocessed through MinMax-scaling and setting the datatype to 64-bit float to ensure only numerical entries. The data was then split in train and test data with a ratio of 70-to-30 randomly. The number of clusters was then iterated in the range 1 - 10 since one of K-means limitation are that the user needs to know/have insight in the number of clusters. \n",
    "\n",
    "#### Results \n",
    "Through the \"elbow\"-method, one can see that roughly 3 clusters is suitable for this problem "
   ]
  },
  {
   "cell_type": "markdown",
   "metadata": {},
   "source": [
    "## Implementation\n",
    "#### Import third-party modules "
   ]
  },
  {
   "cell_type": "code",
   "execution_count": 1,
   "metadata": {},
   "outputs": [
    {
     "name": "stderr",
     "output_type": "stream",
     "text": [
      "c:\\python36\\lib\\site-packages\\sklearn\\cross_validation.py:41: DeprecationWarning: This module was deprecated in version 0.18 in favor of the model_selection module into which all the refactored classes and functions are moved. Also note that the interface of the new CV iterators are different from that of this module. This module will be removed in 0.20.\n",
      "  \"This module will be removed in 0.20.\", DeprecationWarning)\n"
     ]
    }
   ],
   "source": [
    "import pandas as pd\n",
    "import numpy as np\n",
    "import matplotlib.pylab as plt\n",
    "from sklearn.cross_validation import train_test_split\n",
    "from sklearn.cluster import KMeans\n",
    "from scipy.spatial.distance import cdist"
   ]
  },
  {
   "cell_type": "markdown",
   "metadata": {},
   "source": [
    "#### Load data"
   ]
  },
  {
   "cell_type": "code",
   "execution_count": 2,
   "metadata": {},
   "outputs": [],
   "source": [
    "data = pd.read_csv('../../datasets/tree_addhealth.csv')"
   ]
  },
  {
   "cell_type": "markdown",
   "metadata": {},
   "source": [
    "#### Create preprocess function for future use "
   ]
  },
  {
   "cell_type": "code",
   "execution_count": 3,
   "metadata": {},
   "outputs": [],
   "source": [
    "def process_addhealth_data(data): \n",
    "    \"\"\"\n",
    "    Processes the AddHealth dataset to have a mean = 0 and std = 1 and as type float64\n",
    "    \"\"\"\n",
    "    data_norm = data.copy()\n",
    "    \n",
    "    from sklearn import preprocessing\n",
    "    \n",
    "    for feature in data: \n",
    "        data_norm[feature] = preprocessing.scale(data_norm[feature].astype('float64'))\n",
    "\n",
    "    return data_norm"
   ]
  },
  {
   "cell_type": "markdown",
   "metadata": {},
   "source": []
  },
  {
   "cell_type": "code",
   "execution_count": 4,
   "metadata": {},
   "outputs": [
    {
     "name": "stdout",
     "output_type": "stream",
     "text": [
      "Index(['ALCEVR1', 'MAREVER1', 'ALCPROBS1', 'DEVIANT1', 'VIOL1', 'DEP1',\n",
      "       'ESTEEM1', 'SCHCONN1', 'PARACTV', 'PARPRES', 'FAMCONCT'],\n",
      "      dtype='object')\n"
     ]
    }
   ],
   "source": [
    "# Upper-case all column-names\n",
    "data.columns = map(str.upper, data.columns)\n",
    "\n",
    "# Remove NaN's\n",
    "data = data.dropna()\n",
    "\n",
    "cluster = data[['ALCEVR1','MAREVER1','ALCPROBS1','DEVIANT1','VIOL1',\n",
    "'DEP1','ESTEEM1','SCHCONN1','PARACTV', 'PARPRES','FAMCONCT']]\n",
    "\n",
    "# Print columns\n",
    "print(cluster.columns)"
   ]
  },
  {
   "cell_type": "markdown",
   "metadata": {},
   "source": []
  },
  {
   "cell_type": "code",
   "execution_count": 5,
   "metadata": {},
   "outputs": [
    {
     "name": "stdout",
     "output_type": "stream",
     "text": [
      "    ALCEVR1  MAREVER1  ALCPROBS1  DEVIANT1     VIOL1      DEP1   ESTEEM1  \\\n",
      "1  0.946562 -0.564982   0.704945  0.668994 -0.238562  1.288055 -1.106169   \n",
      "3 -1.056455  1.769969  -0.412562  0.384917  0.918423  1.592454  1.123961   \n",
      "5 -1.056455 -0.564982  -0.412562 -0.751392  0.532761 -0.081738  0.008896   \n",
      "6 -1.056455 -0.564982  -0.412562  1.237149  1.304084 -0.690536  0.194740   \n",
      "7  0.946562  1.769969  -0.412562  0.953071  2.461069 -0.690536 -0.176948   \n",
      "\n",
      "   SCHCONN1   PARACTV   PARPRES  FAMCONCT  \n",
      "1 -1.233684  0.806372  0.768105  0.279002  \n",
      "3 -1.815551 -0.086525  0.288629 -1.480438  \n",
      "5 -0.263907 -0.979421 -0.190847  0.431997  \n",
      "6 -2.009506 -0.086525 -0.190847  0.814484  \n",
      "7 -1.621595  1.104004  0.288629 -0.103485  \n"
     ]
    }
   ],
   "source": [
    "cluster_norm = process_addhealth_data(cluster)\n",
    "\n",
    "# Check output \n",
    "print(cluster_norm.head(5))"
   ]
  },
  {
   "cell_type": "markdown",
   "metadata": {},
   "source": []
  },
  {
   "cell_type": "code",
   "execution_count": 6,
   "metadata": {},
   "outputs": [],
   "source": [
    "X_train, X_test = train_test_split(cluster_norm, test_size=.3, random_state=12)"
   ]
  },
  {
   "cell_type": "markdown",
   "metadata": {},
   "source": []
  },
  {
   "cell_type": "code",
   "execution_count": 7,
   "metadata": {},
   "outputs": [],
   "source": [
    "clusters = range(1,10)\n",
    "meandist = []\n",
    "\n",
    "for k in clusters:\n",
    "    model = KMeans(n_clusters=k)\n",
    "    model.fit(X_train)\n",
    "    clusassign = model.predict(X_train)\n",
    "    meandist.append(sum(np.min(cdist(X_train, model.cluster_centers_, 'euclidean'), axis=1)) / X_train.shape[0])"
   ]
  },
  {
   "cell_type": "code",
   "execution_count": 9,
   "metadata": {},
   "outputs": [
    {
     "data": {
      "text/plain": [
       "Text(0.5,1,'Selecting the number of clusters with the Elbow Method')"
      ]
     },
     "execution_count": 9,
     "metadata": {},
     "output_type": "execute_result"
    },
    {
     "data": {
      "image/png": "[encoded data removed]",
      "text/plain": [
       "<matplotlib.figure.Figure at 0x1a738d30>"
      ]
     },
     "metadata": {},
     "output_type": "display_data"
    }
   ],
   "source": [
    "plt.plot(clusters, meandist)\n",
    "plt.xlabel('Number of clusters')\n",
    "plt.ylabel('Average distance')\n",
    "plt.title('Selecting the number of clusters with the Elbow Method')"
   ]
  }
 ],
 "metadata": {
  "kernelspec": {
   "display_name": "Python 3",
   "language": "python",
   "name": "python3"
  },
  "language_info": {
   "codemirror_mode": {
    "name": "ipython",
    "version": 3
   },
   "file_extension": ".py",
   "mimetype": "text/x-python",
   "name": "python",
   "nbconvert_exporter": "python",
   "pygments_lexer": "ipython3",
   "version": "3.6.2"
  }
 },
 "nbformat": 4,
 "nbformat_minor": 2
}
